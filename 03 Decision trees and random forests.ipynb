{
 "cells": [
  {
   "cell_type": "markdown",
   "metadata": {},
   "source": [
    "# 02 (Cont'd)"
   ]
  },
  {
   "cell_type": "markdown",
   "metadata": {},
   "source": [
    "## 02.01 Importing modules and styles"
   ]
  },
  {
   "cell_type": "code",
   "execution_count": 1,
   "metadata": {},
   "outputs": [
    {
     "name": "stderr",
     "output_type": "stream",
     "text": [
      "C:\\Users\\paolo\\anaconda3\\envs\\exts-aml2\\lib\\site-packages\\sklearn\\ensemble\\weight_boosting.py:29: DeprecationWarning: numpy.core.umath_tests is an internal NumPy module and should not be imported. It will be removed in a future NumPy release.\n",
      "  from numpy.core.umath_tests import inner1d\n"
     ]
    }
   ],
   "source": [
    "import pandas as pd #used\n",
    "import numpy as np #used\n",
    "import pickle\n",
    "import os\n",
    "import seaborn as sns\n",
    "import random\n",
    "%matplotlib inline\n",
    "import matplotlib.pyplot as plt\n",
    "from sklearn.dummy import DummyClassifier\n",
    "from sklearn.pipeline import Pipeline\n",
    "from sklearn.preprocessing import StandardScaler\n",
    "from sklearn.model_selection import ParameterGrid\n",
    "from sklearn.decomposition import PCA\n",
    "from sklearn.model_selection import StratifiedShuffleSplit\n",
    "from sklearn.tree import DecisionTreeClassifier\n",
    "from sklearn.ensemble import RandomForestClassifier"
   ]
  },
  {
   "cell_type": "code",
   "execution_count": 2,
   "metadata": {},
   "outputs": [],
   "source": [
    "# Activate Seaborn default style\n",
    "sns.set()\n",
    "\n",
    "# Get a few colors from the default color palette\n",
    "blue, green, red = sns.color_palette()[:3]"
   ]
  },
  {
   "cell_type": "markdown",
   "metadata": {},
   "source": [
    "## 02.02 Importing data"
   ]
  },
  {
   "cell_type": "code",
   "execution_count": 3,
   "metadata": {},
   "outputs": [],
   "source": [
    "# Load train data\n",
    "with np.load(os.path.join('data', 'cifar4-train.npz'), allow_pickle=False) as npz_file:\n",
    "    cifar_tr = dict(npz_file.items())\n",
    "with np.load(os.path.join('data', 'cifar4-test.npz'), allow_pickle=False) as npz_file:\n",
    "    cifar_te = dict(npz_file.items())\n",
    "X_cifar_pixels_tr=cifar_tr['pixels']\n",
    "X_cifar_overfeat_tr=cifar_tr['overfeat']\n",
    "y_cifar_tr=cifar_tr['labels']\n",
    "X_cifar_pixels_te=cifar_te['pixels']\n",
    "X_cifar_overfeat_te=cifar_te['overfeat']"
   ]
  },
  {
   "cell_type": "markdown",
   "metadata": {},
   "source": [
    "## 02.03 Splitting data"
   ]
  },
  {
   "cell_type": "code",
   "execution_count": 4,
   "metadata": {},
   "outputs": [],
   "source": [
    "# Creating a test set\n",
    "ssplit = StratifiedShuffleSplit(n_splits=500, test_size=1000, random_state=0)\n",
    "\n",
    "for train_index, test_index in ssplit.split(X_cifar_pixels_tr, y_cifar_tr):\n",
    "    X_pixels_tr, X_pixels_te = X_cifar_pixels_tr[train_index], X_cifar_pixels_tr[test_index]\n",
    "    X_overfeat_tr, X_overfeat_te = X_cifar_overfeat_tr[train_index], X_cifar_overfeat_tr[test_index]\n",
    "    y_tr, y_te = y_cifar_tr[train_index], y_cifar_tr[test_index]"
   ]
  },
  {
   "cell_type": "code",
   "execution_count": 5,
   "metadata": {},
   "outputs": [
    {
     "name": "stdout",
     "output_type": "stream",
     "text": [
      "Train sets shapes\n",
      "Pixels: (4000, 3072)\n",
      "Overfeat features: (4000, 4096)\n",
      "Labels: (4000,)\n",
      "\n",
      "Test sets shapes\n",
      "Pixels: (1000, 3072)\n",
      "Overfeat features: (1000, 4096)\n",
      "Labels: (1000,)\n"
     ]
    }
   ],
   "source": [
    "# Verifying shapes\n",
    "print('Train sets shapes')\n",
    "print('Pixels:',X_pixels_tr.shape)\n",
    "print('Overfeat features:',X_overfeat_tr.shape)\n",
    "print('Labels:',y_tr.shape)\n",
    "print()\n",
    "print('Test sets shapes')\n",
    "print('Pixels:',X_pixels_te.shape)\n",
    "print('Overfeat features:',X_overfeat_te.shape)\n",
    "print('Labels:',y_te.shape)"
   ]
  },
  {
   "cell_type": "markdown",
   "metadata": {},
   "source": [
    "## 02.04 PCA preprocessing"
   ]
  },
  {
   "cell_type": "markdown",
   "metadata": {},
   "source": [
    "We will use a PCA of 175 components explaining 90% of the variance which dramatically reduces the size of the input data an thus the processing times."
   ]
  },
  {
   "cell_type": "code",
   "execution_count": 6,
   "metadata": {},
   "outputs": [
    {
     "name": "stdout",
     "output_type": "stream",
     "text": [
      "Shape of preprocessed Overfeat matrix: (4000, 175)\n",
      "Percentage of variance explained: 0.90\n"
     ]
    }
   ],
   "source": [
    "# Reducing the Overfeat features with the PCA using 175 components\n",
    "scaler=StandardScaler()\n",
    "X_Of_tr_r=scaler.fit_transform(X_overfeat_tr) #standardising features\n",
    "pca175=PCA(n_components=175)\n",
    "X_Of_tr_175r=pca175.fit_transform(X_Of_tr_r)\n",
    "pve = pca175.explained_variance_ratio_ # Variance explained by components\n",
    "print('Shape of preprocessed Overfeat matrix:',X_Of_tr_175r.shape)\n",
    "print('Percentage of variance explained: {:.2f}'.format(np.max(np.cumsum(pve))))"
   ]
  },
  {
   "cell_type": "markdown",
   "metadata": {},
   "source": [
    "## 02.05 Splitting reduced data"
   ]
  },
  {
   "cell_type": "code",
   "execution_count": 7,
   "metadata": {},
   "outputs": [],
   "source": [
    "# Creating a test set\n",
    "ssplit = StratifiedShuffleSplit(n_splits=500, test_size=800, random_state=0)\n",
    "\n",
    "for train_index, valid_index in ssplit.split(X_Of_tr_175r, y_tr):\n",
    "    X_train, X_valid = X_Of_tr_175r[train_index], X_Of_tr_175r[valid_index]\n",
    "    y_train, y_valid = y_tr[train_index], y_tr[valid_index]"
   ]
  },
  {
   "cell_type": "code",
   "execution_count": 8,
   "metadata": {},
   "outputs": [
    {
     "name": "stdout",
     "output_type": "stream",
     "text": [
      "Reduced train features: (3200, 175)\n",
      "Train Labels: (3200,)\n",
      "\n",
      "Reduced validation features: (800, 175)\n",
      "Labels: (800,)\n"
     ]
    }
   ],
   "source": [
    "# Verifying shapes\n",
    "print('Reduced train features:',X_train.shape)\n",
    "print('Train Labels:',y_train.shape)\n",
    "print()\n",
    "print('Reduced validation features:',X_valid.shape)\n",
    "print('Labels:',y_valid.shape)"
   ]
  },
  {
   "cell_type": "markdown",
   "metadata": {},
   "source": [
    "# 03. Decision trees and random forests"
   ]
  },
  {
   "cell_type": "markdown",
   "metadata": {},
   "source": [
    "## 03.01 Decision tree, grid search"
   ]
  },
  {
   "cell_type": "code",
   "execution_count": 9,
   "metadata": {},
   "outputs": [],
   "source": [
    "# Depth range\n",
    "depths=np.arange(2,22) #setting depth values for grid searching\n",
    "\n",
    "train_scores=[]\n",
    "valid_scores=[]\n",
    "\n",
    "for depth_n in depths:\n",
    "    #on train\n",
    "    dt=DecisionTreeClassifier(criterion='gini',max_depth=depth_n,random_state=0)\n",
    "    dt.fit(X_train,y_train)\n",
    "    train_scores.append(dt.score(X_train,y_train))\n",
    "    \n",
    "    #on test\n",
    "    valid_scores.append(dt.score(X_valid,y_valid))\n",
    "    \n",
    "    \n",
    "idx=np.argmax(valid_scores)\n",
    "best_depth=depths[idx]\n",
    "best_valid_score=valid_scores[idx]\n"
   ]
  },
  {
   "cell_type": "code",
   "execution_count": 10,
   "metadata": {},
   "outputs": [
    {
     "data": {
      "image/png": "[encoded data removed]",
      "text/plain": [
       "<matplotlib.figure.Figure at 0x2c0d7fa05f8>"
      ]
     },
     "metadata": {},
     "output_type": "display_data"
    },
    {
     "name": "stdout",
     "output_type": "stream",
     "text": [
      "best depth of the decision tree: 5\n",
      "best validation accuracy: 0.67125\n"
     ]
    }
   ],
   "source": [
    "plt.plot(depths, train_scores, label='train curve')\n",
    "plt.plot(depths, valid_scores, label='validation curve')\n",
    "plt.legend()\n",
    "plt.show()\n",
    "print('best depth of the decision tree:',best_depth)\n",
    "print('best validation accuracy:',best_valid_score)"
   ]
  },
  {
   "cell_type": "markdown",
   "metadata": {},
   "source": [
    "The decision tree overfeats beyond a depth of 5 stages."
   ]
  },
  {
   "cell_type": "markdown",
   "metadata": {},
   "source": [
    "## 03.02 Random forests"
   ]
  },
  {
   "cell_type": "code",
   "execution_count": 18,
   "metadata": {},
   "outputs": [],
   "source": [
    "# Estimator size range\n",
    "estimators_sizes=np.arange(50,500,50) #setting estimators for grid searching\n",
    "\n",
    "train_scores=[]\n",
    "valid_scores=[]\n",
    "\n",
    "for estimator_n in estimators_sizes:\n",
    "    # Creating the random forest object using the best maximum depth from the Decision tree model\n",
    "    rf=RandomForestClassifier(n_estimators=estimator_n,max_depth=best_depth, random_state=0,n_jobs=-1)\n",
    "    \n",
    "    #on train\n",
    "    rf.fit(X_train,y_train)\n",
    "    train_scores.append(rf.score(X_train,y_train))\n",
    "    \n",
    "    #on test\n",
    "    valid_scores.append(rf.score(X_valid,y_valid))\n",
    "    \n",
    "    \n",
    "idx=np.argmax(valid_scores)\n",
    "best_size=estimators_sizes[idx]\n",
    "best_valid_score=valid_scores[idx]"
   ]
  },
  {
   "cell_type": "code",
   "execution_count": 19,
   "metadata": {},
   "outputs": [],
   "source": [
    "# Collecting results in a DataFrame\n",
    "scores_df=pd.DataFrame({'n estimators':estimators_sizes,'validation accuracy':valid_scores,'train accuracy':train_scores})"
   ]
  },
  {
   "cell_type": "code",
   "execution_count": 20,
   "metadata": {},
   "outputs": [
    {
     "name": "stdout",
     "output_type": "stream",
     "text": [
      "   n estimators  train accuracy  validation accuracy\n",
      "0            50        0.823125              0.71125\n",
      "1           100        0.831875              0.70125\n",
      "2           150        0.833750              0.70250\n",
      "3           200        0.831562              0.70250\n",
      "4           250        0.835625              0.71125\n",
      "5           300        0.838125              0.71250\n",
      "6           350        0.834063              0.70625\n",
      "7           400        0.835313              0.71000\n",
      "8           450        0.835625              0.70625\n",
      "Best estimators size: 300\n",
      "Best validation accuracy:0.713\n"
     ]
    }
   ],
   "source": [
    "print(scores_df)\n",
    "print('Best estimators size:',best_size)\n",
    "print('Best validation accuracy:{:.3f}'.format(best_valid_score))"
   ]
  },
  {
   "cell_type": "markdown",
   "metadata": {},
   "source": [
    "## 03.03 Evaluating the models"
   ]
  },
  {
   "cell_type": "code",
   "execution_count": 21,
   "metadata": {},
   "outputs": [
    {
     "name": "stdout",
     "output_type": "stream",
     "text": [
      "Shape of preprocessed Overfeat matrix: (1000, 175)\n",
      "Percentage of variance explained: 0.92\n"
     ]
    }
   ],
   "source": [
    "# Reducing the Overfeat features of the test set with the PCA using 175 components tuned on the train set\n",
    "X_Of_te_r=scaler.fit_transform(X_overfeat_te) #standardising features\n",
    "X_Of_te_175r=pca175.fit_transform(X_Of_te_r)\n",
    "pve = pca175.explained_variance_ratio_ # Variance explained by components\n",
    "print('Shape of preprocessed Overfeat matrix:',X_Of_te_175r.shape)\n",
    "print('Percentage of variance explained: {:.2f}'.format(np.max(np.cumsum(pve))))"
   ]
  },
  {
   "cell_type": "code",
   "execution_count": 22,
   "metadata": {},
   "outputs": [],
   "source": [
    "# Evaluating the Decision tree\n",
    "dt=DecisionTreeClassifier(criterion='gini',max_depth=best_depth,random_state=0)\n",
    "dt.fit(X_train,y_train)\n",
    "train_accuracy_dt=dt.score(X_train,y_train)\n",
    "test_accuracy_dt=dt.score(X_valid,y_valid)"
   ]
  },
  {
   "cell_type": "code",
   "execution_count": 23,
   "metadata": {},
   "outputs": [],
   "source": [
    "# Evaluating the Random forest\n",
    "rf=RandomForestClassifier(n_estimators=best_size,max_depth=best_depth, random_state=0, n_jobs=-1)\n",
    "rf.fit(X_train,y_train)\n",
    "train_accuracy_rf=rf.score(X_train,y_train)\n",
    "test_accuracy_rf=rf.score(X_Of_te_175r,y_te)"
   ]
  },
  {
   "cell_type": "code",
   "execution_count": 24,
   "metadata": {},
   "outputs": [
    {
     "name": "stdout",
     "output_type": "stream",
     "text": [
      "Decision tree accuracy (test set): 0.67\n",
      "Decision tree accuracy (train set): 0.71\n",
      "\n",
      "Random forest accuracy (test set): 0.34\n",
      "Random forest accuracy (train set): 0.84\n"
     ]
    }
   ],
   "source": [
    "# Printing accuracy values\n",
    "print('Decision tree accuracy (test set): {:.2f}'.format(test_accuracy_dt))\n",
    "print('Decision tree accuracy (train set): {:.2f}'.format(train_accuracy_dt))\n",
    "print()\n",
    "print('Random forest accuracy (test set): {:.2f}'.format(test_accuracy_rf))\n",
    "print('Random forest accuracy (train set): {:.2f}'.format(train_accuracy_rf))"
   ]
  },
  {
   "cell_type": "markdown",
   "metadata": {},
   "source": [
    "The random forest model appearently overfits the train set."
   ]
  }
 ],
 "metadata": {
  "kernelspec": {
   "display_name": "Python 3",
   "language": "python",
   "name": "python3"
  },
  "language_info": {
   "codemirror_mode": {
    "name": "ipython",
    "version": 3
   },
   "file_extension": ".py",
   "mimetype": "text/x-python",
   "name": "python",
   "nbconvert_exporter": "python",
   "pygments_lexer": "ipython3",
   "version": "3.6.4"
  }
 },
 "nbformat": 4,
 "nbformat_minor": 4
}
