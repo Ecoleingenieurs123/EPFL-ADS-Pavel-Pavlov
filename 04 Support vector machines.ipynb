{
 "cells": [
  {
   "cell_type": "markdown",
   "metadata": {},
   "source": [
    "# 02 (Cont'd)"
   ]
  },
  {
   "cell_type": "markdown",
   "metadata": {},
   "source": [
    "## 02.01 Importing modules and styles"
   ]
  },
  {
   "cell_type": "code",
   "execution_count": 1,
   "metadata": {},
   "outputs": [],
   "source": [
    "import pandas as pd #used\n",
    "import numpy as np #used\n",
    "import pickle\n",
    "import os\n",
    "from sklearn.dummy import DummyClassifier\n",
    "from sklearn.pipeline import Pipeline #used\n",
    "from sklearn.preprocessing import StandardScaler #used\n",
    "from sklearn.decomposition import PCA #used\n",
    "from sklearn.model_selection import StratifiedShuffleSplit #used\n",
    "from sklearn.svm import SVC #used\n",
    "from sklearn.model_selection import GridSearchCV #used"
   ]
  },
  {
   "cell_type": "markdown",
   "metadata": {},
   "source": [
    "## 02.02 Importing data\n"
   ]
  },
  {
   "cell_type": "code",
   "execution_count": 2,
   "metadata": {},
   "outputs": [],
   "source": [
    "# Load train data\n",
    "with np.load(os.path.join('data', 'cifar4-train.npz'), allow_pickle=False) as npz_file:\n",
    "    cifar_tr = dict(npz_file.items())\n",
    "with np.load(os.path.join('data', 'cifar4-test.npz'), allow_pickle=False) as npz_file:\n",
    "    cifar_te = dict(npz_file.items())\n",
    "X_cifar_pixels_tr=cifar_tr['pixels']\n",
    "X_cifar_overfeat_tr=cifar_tr['overfeat']\n",
    "y_cifar_tr=cifar_tr['labels']\n",
    "X_cifar_pixels_te=cifar_te['pixels']\n",
    "X_cifar_overfeat_te=cifar_te['overfeat']"
   ]
  },
  {
   "cell_type": "markdown",
   "metadata": {},
   "source": [
    "## 02.03 Splitting data"
   ]
  },
  {
   "cell_type": "code",
   "execution_count": 3,
   "metadata": {},
   "outputs": [],
   "source": [
    "# Creating a test set\n",
    "ssplit = StratifiedShuffleSplit(n_splits=500, test_size=1000, random_state=0)\n",
    "\n",
    "for train_index, test_index in ssplit.split(X_cifar_pixels_tr, y_cifar_tr):\n",
    "    X_pixels_tr, X_pixels_te = X_cifar_pixels_tr[train_index], X_cifar_pixels_tr[test_index]\n",
    "    X_overfeat_tr, X_overfeat_te = X_cifar_overfeat_tr[train_index], X_cifar_overfeat_tr[test_index]\n",
    "    y_tr, y_te = y_cifar_tr[train_index], y_cifar_tr[test_index]"
   ]
  },
  {
   "cell_type": "code",
   "execution_count": 4,
   "metadata": {},
   "outputs": [
    {
     "name": "stdout",
     "output_type": "stream",
     "text": [
      "Train sets shapes\n",
      "Pixels: (4000, 3072)\n",
      "Overfeat features: (4000, 4096)\n",
      "Labels: (4000,)\n",
      "\n",
      "Test sets shapes\n",
      "Pixels: (1000, 3072)\n",
      "Overfeat features: (1000, 4096)\n",
      "Labels: (1000,)\n"
     ]
    }
   ],
   "source": [
    "# Verifying shapes\n",
    "print('Train sets shapes')\n",
    "print('Pixels:',X_pixels_tr.shape)\n",
    "print('Overfeat features:',X_overfeat_tr.shape)\n",
    "print('Labels:',y_tr.shape)\n",
    "print()\n",
    "print('Test sets shapes')\n",
    "print('Pixels:',X_pixels_te.shape)\n",
    "print('Overfeat features:',X_overfeat_te.shape)\n",
    "print('Labels:',y_te.shape)"
   ]
  },
  {
   "cell_type": "markdown",
   "metadata": {},
   "source": [
    "# 04 Support vector machines"
   ]
  },
  {
   "cell_type": "markdown",
   "metadata": {},
   "source": [
    "## 04.01 PCA preprocessing"
   ]
  },
  {
   "cell_type": "markdown",
   "metadata": {},
   "source": [
    "Due to the limited processing capabilities available, and the heavy computational requirement of SVM, which adds space dimensions, I will use again a PCA of 175 components explaining 90% of the variance."
   ]
  },
  {
   "cell_type": "code",
   "execution_count": 5,
   "metadata": {
    "scrolled": true
   },
   "outputs": [
    {
     "name": "stdout",
     "output_type": "stream",
     "text": [
      "Shape of preprocessed Overfeat matrix: (4000, 175)\n",
      "Percentage of variance explained: 0.90\n"
     ]
    }
   ],
   "source": [
    "# Reducing the Overfeat features with the PCA using 175 components\n",
    "scaler=StandardScaler()\n",
    "X_Of_tr_r=scaler.fit_transform(X_overfeat_tr) #standardising features\n",
    "pca175=PCA(n_components=175)\n",
    "X_train=pca175.fit_transform(X_Of_tr_r) #WARNING: X_train here corresponds to X_Of_tr_175r in previous model tasks\n",
    "pve = pca175.explained_variance_ratio_ # Variance explained by components\n",
    "print('Shape of preprocessed Overfeat matrix:',X_train.shape)\n",
    "print('Percentage of variance explained: {:.2f}'.format(np.max(np.cumsum(pve))))"
   ]
  },
  {
   "cell_type": "markdown",
   "metadata": {},
   "source": [
    "## 04.02 SVM with linear kernel and GridSearch CV tuning"
   ]
  },
  {
   "cell_type": "code",
   "execution_count": 6,
   "metadata": {},
   "outputs": [],
   "source": [
    "# Defining the grid\n",
    "\n",
    "n_jobs=-1\n",
    "\n",
    "pipe=Pipeline([('scaler',None),('svc',SVC())]) # Pipeline with Support vector machine\n",
    "\n",
    "grid_cv_lr=GridSearchCV(pipe,[{'svc__kernel':['linear'], # setting the linear model in the gridsearch\n",
    "                            'svc__C':[0.001,0.005,0.01], # settiung parameters for C constant\n",
    "                            }],\n",
    "                     verbose=10,\n",
    "                     cv=5) #5 folds"
   ]
  },
  {
   "cell_type": "markdown",
   "metadata": {},
   "source": [
    "After a first run attempt with C=[0.1, 1, 10], which revealed eternal, I stopped the process and reset smaller values instead."
   ]
  },
  {
   "cell_type": "code",
   "execution_count": 7,
   "metadata": {
    "scrolled": true
   },
   "outputs": [
    {
     "name": "stdout",
     "output_type": "stream",
     "text": [
      "Fitting 5 folds for each of 3 candidates, totalling 15 fits\n",
      "[CV] svc__C=0.001, svc__kernel=linear ................................\n",
      "[CV] .. svc__C=0.001, svc__kernel=linear, score=0.82875, total=   1.2s\n",
      "[CV] svc__C=0.001, svc__kernel=linear ................................\n"
     ]
    },
    {
     "name": "stderr",
     "output_type": "stream",
     "text": [
      "[Parallel(n_jobs=1)]: Done   1 out of   1 | elapsed:    2.1s remaining:    0.0s\n"
     ]
    },
    {
     "name": "stdout",
     "output_type": "stream",
     "text": [
      "[CV] .. svc__C=0.001, svc__kernel=linear, score=0.81625, total=   1.1s\n",
      "[CV] svc__C=0.001, svc__kernel=linear ................................\n"
     ]
    },
    {
     "name": "stderr",
     "output_type": "stream",
     "text": [
      "[Parallel(n_jobs=1)]: Done   2 out of   2 | elapsed:    4.2s remaining:    0.0s\n"
     ]
    },
    {
     "name": "stdout",
     "output_type": "stream",
     "text": [
      "[CV] .. svc__C=0.001, svc__kernel=linear, score=0.83875, total=   1.1s\n",
      "[CV] svc__C=0.001, svc__kernel=linear ................................\n"
     ]
    },
    {
     "name": "stderr",
     "output_type": "stream",
     "text": [
      "[Parallel(n_jobs=1)]: Done   3 out of   3 | elapsed:    6.4s remaining:    0.0s\n"
     ]
    },
    {
     "name": "stdout",
     "output_type": "stream",
     "text": [
      "[CV] .. svc__C=0.001, svc__kernel=linear, score=0.83625, total=   1.2s\n",
      "[CV] svc__C=0.001, svc__kernel=linear ................................\n"
     ]
    },
    {
     "name": "stderr",
     "output_type": "stream",
     "text": [
      "[Parallel(n_jobs=1)]: Done   4 out of   4 | elapsed:    8.5s remaining:    0.0s\n"
     ]
    },
    {
     "name": "stdout",
     "output_type": "stream",
     "text": [
      "[CV] .. svc__C=0.001, svc__kernel=linear, score=0.81125, total=   1.1s\n",
      "[CV] svc__C=0.005, svc__kernel=linear ................................\n"
     ]
    },
    {
     "name": "stderr",
     "output_type": "stream",
     "text": [
      "[Parallel(n_jobs=1)]: Done   5 out of   5 | elapsed:   10.6s remaining:    0.0s\n"
     ]
    },
    {
     "name": "stdout",
     "output_type": "stream",
     "text": [
      "[CV] ... svc__C=0.005, svc__kernel=linear, score=0.8125, total=   1.2s\n",
      "[CV] svc__C=0.005, svc__kernel=linear ................................\n"
     ]
    },
    {
     "name": "stderr",
     "output_type": "stream",
     "text": [
      "[Parallel(n_jobs=1)]: Done   6 out of   6 | elapsed:   12.8s remaining:    0.0s\n"
     ]
    },
    {
     "name": "stdout",
     "output_type": "stream",
     "text": [
      "[CV] ... svc__C=0.005, svc__kernel=linear, score=0.8125, total=   1.2s\n",
      "[CV] svc__C=0.005, svc__kernel=linear ................................\n"
     ]
    },
    {
     "name": "stderr",
     "output_type": "stream",
     "text": [
      "[Parallel(n_jobs=1)]: Done   7 out of   7 | elapsed:   14.9s remaining:    0.0s\n"
     ]
    },
    {
     "name": "stdout",
     "output_type": "stream",
     "text": [
      "[CV] .. svc__C=0.005, svc__kernel=linear, score=0.82875, total=   1.2s\n",
      "[CV] svc__C=0.005, svc__kernel=linear ................................\n"
     ]
    },
    {
     "name": "stderr",
     "output_type": "stream",
     "text": [
      "[Parallel(n_jobs=1)]: Done   8 out of   8 | elapsed:   17.0s remaining:    0.0s\n"
     ]
    },
    {
     "name": "stdout",
     "output_type": "stream",
     "text": [
      "[CV] .. svc__C=0.005, svc__kernel=linear, score=0.82625, total=   1.2s\n",
      "[CV] svc__C=0.005, svc__kernel=linear ................................\n"
     ]
    },
    {
     "name": "stderr",
     "output_type": "stream",
     "text": [
      "[Parallel(n_jobs=1)]: Done   9 out of   9 | elapsed:   19.1s remaining:    0.0s\n"
     ]
    },
    {
     "name": "stdout",
     "output_type": "stream",
     "text": [
      "[CV] ... svc__C=0.005, svc__kernel=linear, score=0.8125, total=   1.2s\n",
      "[CV] svc__C=0.01, svc__kernel=linear .................................\n",
      "[CV] ... svc__C=0.01, svc__kernel=linear, score=0.80875, total=   1.4s\n",
      "[CV] svc__C=0.01, svc__kernel=linear .................................\n",
      "[CV] ... svc__C=0.01, svc__kernel=linear, score=0.81125, total=   1.4s\n",
      "[CV] svc__C=0.01, svc__kernel=linear .................................\n",
      "[CV] ... svc__C=0.01, svc__kernel=linear, score=0.81875, total=   1.5s\n",
      "[CV] svc__C=0.01, svc__kernel=linear .................................\n",
      "[CV] ... svc__C=0.01, svc__kernel=linear, score=0.82125, total=   1.5s\n",
      "[CV] svc__C=0.01, svc__kernel=linear .................................\n",
      "[CV] ..... svc__C=0.01, svc__kernel=linear, score=0.795, total=   1.4s\n"
     ]
    },
    {
     "name": "stderr",
     "output_type": "stream",
     "text": [
      "[Parallel(n_jobs=1)]: Done  15 out of  15 | elapsed:   32.6s finished\n"
     ]
    },
    {
     "data": {
      "text/plain": [
       "GridSearchCV(cv=5, error_score='raise',\n",
       "       estimator=Pipeline(memory=None,\n",
       "     steps=[('scaler', None), ('svc', SVC(C=1.0, cache_size=200, class_weight=None, coef0=0.0,\n",
       "  decision_function_shape='ovr', degree=3, gamma='auto', kernel='rbf',\n",
       "  max_iter=-1, probability=False, random_state=None, shrinking=True,\n",
       "  tol=0.001, verbose=False))]),\n",
       "       fit_params=None, iid=True, n_jobs=1,\n",
       "       param_grid=[{'svc__kernel': ['linear'], 'svc__C': [0.001, 0.005, 0.01]}],\n",
       "       pre_dispatch='2*n_jobs', refit=True, return_train_score=True,\n",
       "       scoring=None, verbose=10)"
      ]
     },
     "execution_count": 7,
     "metadata": {},
     "output_type": "execute_result"
    }
   ],
   "source": [
    "# Fitting the grid\n",
    "\n",
    "grid_cv_lr.fit(X_train,y_tr)"
   ]
  },
  {
   "cell_type": "code",
   "execution_count": 8,
   "metadata": {},
   "outputs": [],
   "source": [
    "# Creating the DataFrame with the grid values\n",
    "\n",
    "lr_df=pd.DataFrame.from_items([('c',grid_cv_lr.cv_results_['param_svc__C']),\n",
    "                           ('mean_te',grid_cv_lr.cv_results_['mean_test_score']), #mean accuracy\n",
    "                           ('std_te',grid_cv_lr.cv_results_['std_test_score']), #stdv of set folds accuracy\n",
    "                           ])"
   ]
  },
  {
   "cell_type": "code",
   "execution_count": 9,
   "metadata": {},
   "outputs": [
    {
     "data": {
      "text/html": [
       "<div>\n",
       "<style scoped>\n",
       "    .dataframe tbody tr th:only-of-type {\n",
       "        vertical-align: middle;\n",
       "    }\n",
       "\n",
       "    .dataframe tbody tr th {\n",
       "        vertical-align: top;\n",
       "    }\n",
       "\n",
       "    .dataframe thead th {\n",
       "        text-align: right;\n",
       "    }\n",
       "</style>\n",
       "<table border=\"1\" class=\"dataframe\">\n",
       "  <thead>\n",
       "    <tr style=\"text-align: right;\">\n",
       "      <th></th>\n",
       "      <th>c</th>\n",
       "      <th>mean_te</th>\n",
       "      <th>std_te</th>\n",
       "    </tr>\n",
       "  </thead>\n",
       "  <tbody>\n",
       "    <tr>\n",
       "      <th>0</th>\n",
       "      <td>0.001</td>\n",
       "      <td>0.82625</td>\n",
       "      <td>0.010840</td>\n",
       "    </tr>\n",
       "    <tr>\n",
       "      <th>1</th>\n",
       "      <td>0.005</td>\n",
       "      <td>0.81850</td>\n",
       "      <td>0.007391</td>\n",
       "    </tr>\n",
       "    <tr>\n",
       "      <th>2</th>\n",
       "      <td>0.01</td>\n",
       "      <td>0.81100</td>\n",
       "      <td>0.009233</td>\n",
       "    </tr>\n",
       "  </tbody>\n",
       "</table>\n",
       "</div>"
      ],
      "text/plain": [
       "       c  mean_te    std_te\n",
       "0  0.001  0.82625  0.010840\n",
       "1  0.005  0.81850  0.007391\n",
       "2   0.01  0.81100  0.009233"
      ]
     },
     "execution_count": 9,
     "metadata": {},
     "output_type": "execute_result"
    }
   ],
   "source": [
    "lr_df.sort_values(by='mean_te',ascending=False)"
   ]
  },
  {
   "cell_type": "markdown",
   "metadata": {},
   "source": [
    "The accuracy uis relatively high with a low regularization."
   ]
  },
  {
   "cell_type": "markdown",
   "metadata": {},
   "source": [
    "## 04.03 SVM with RBF kernel and GridSearch CV tuning"
   ]
  },
  {
   "cell_type": "code",
   "execution_count": 10,
   "metadata": {},
   "outputs": [],
   "source": [
    "# Defining the grid\n",
    "n_jobs=-1\n",
    "\n",
    "pipe=Pipeline([('scaler',None),('svc',SVC())])\n",
    "\n",
    "grid_cv_rbf=GridSearchCV(pipe,[{'svc__kernel':['rbf'], #setting the RBF kernel trick\n",
    "                            'svc__gamma':[0.0001,100],\n",
    "                            'svc__C':[0.001,1],\n",
    "                            }],\n",
    "                     verbose=10,\n",
    "                     cv=5)"
   ]
  },
  {
   "cell_type": "code",
   "execution_count": 11,
   "metadata": {
    "scrolled": true
   },
   "outputs": [
    {
     "name": "stdout",
     "output_type": "stream",
     "text": [
      "Fitting 5 folds for each of 4 candidates, totalling 20 fits\n",
      "[CV] svc__C=0.001, svc__gamma=0.0001, svc__kernel=rbf ................\n",
      "[CV]  svc__C=0.001, svc__gamma=0.0001, svc__kernel=rbf, score=0.6975, total=   4.6s\n",
      "[CV] svc__C=0.001, svc__gamma=0.0001, svc__kernel=rbf ................\n"
     ]
    },
    {
     "name": "stderr",
     "output_type": "stream",
     "text": [
      "[Parallel(n_jobs=1)]: Done   1 out of   1 | elapsed:    7.0s remaining:    0.0s\n"
     ]
    },
    {
     "name": "stdout",
     "output_type": "stream",
     "text": [
      "[CV]  svc__C=0.001, svc__gamma=0.0001, svc__kernel=rbf, score=0.66875, total=   4.6s\n",
      "[CV] svc__C=0.001, svc__gamma=0.0001, svc__kernel=rbf ................\n"
     ]
    },
    {
     "name": "stderr",
     "output_type": "stream",
     "text": [
      "[Parallel(n_jobs=1)]: Done   2 out of   2 | elapsed:   14.2s remaining:    0.0s\n"
     ]
    },
    {
     "name": "stdout",
     "output_type": "stream",
     "text": [
      "[CV]  svc__C=0.001, svc__gamma=0.0001, svc__kernel=rbf, score=0.68625, total=   4.6s\n",
      "[CV] svc__C=0.001, svc__gamma=0.0001, svc__kernel=rbf ................\n"
     ]
    },
    {
     "name": "stderr",
     "output_type": "stream",
     "text": [
      "[Parallel(n_jobs=1)]: Done   3 out of   3 | elapsed:   21.3s remaining:    0.0s\n"
     ]
    },
    {
     "name": "stdout",
     "output_type": "stream",
     "text": [
      "[CV]  svc__C=0.001, svc__gamma=0.0001, svc__kernel=rbf, score=0.70125, total=   4.7s\n",
      "[CV] svc__C=0.001, svc__gamma=0.0001, svc__kernel=rbf ................\n"
     ]
    },
    {
     "name": "stderr",
     "output_type": "stream",
     "text": [
      "[Parallel(n_jobs=1)]: Done   4 out of   4 | elapsed:   28.4s remaining:    0.0s\n"
     ]
    },
    {
     "name": "stdout",
     "output_type": "stream",
     "text": [
      "[CV]  svc__C=0.001, svc__gamma=0.0001, svc__kernel=rbf, score=0.68375, total=   4.6s\n",
      "[CV] svc__C=0.001, svc__gamma=100, svc__kernel=rbf ...................\n"
     ]
    },
    {
     "name": "stderr",
     "output_type": "stream",
     "text": [
      "[Parallel(n_jobs=1)]: Done   5 out of   5 | elapsed:   35.5s remaining:    0.0s\n"
     ]
    },
    {
     "name": "stdout",
     "output_type": "stream",
     "text": [
      "[CV]  svc__C=0.001, svc__gamma=100, svc__kernel=rbf, score=0.25, total=   5.5s\n",
      "[CV] svc__C=0.001, svc__gamma=100, svc__kernel=rbf ...................\n"
     ]
    },
    {
     "name": "stderr",
     "output_type": "stream",
     "text": [
      "[Parallel(n_jobs=1)]: Done   6 out of   6 | elapsed:   44.0s remaining:    0.0s\n"
     ]
    },
    {
     "name": "stdout",
     "output_type": "stream",
     "text": [
      "[CV]  svc__C=0.001, svc__gamma=100, svc__kernel=rbf, score=0.25, total=   5.5s\n",
      "[CV] svc__C=0.001, svc__gamma=100, svc__kernel=rbf ...................\n"
     ]
    },
    {
     "name": "stderr",
     "output_type": "stream",
     "text": [
      "[Parallel(n_jobs=1)]: Done   7 out of   7 | elapsed:   52.5s remaining:    0.0s\n"
     ]
    },
    {
     "name": "stdout",
     "output_type": "stream",
     "text": [
      "[CV]  svc__C=0.001, svc__gamma=100, svc__kernel=rbf, score=0.25, total=   5.5s\n",
      "[CV] svc__C=0.001, svc__gamma=100, svc__kernel=rbf ...................\n"
     ]
    },
    {
     "name": "stderr",
     "output_type": "stream",
     "text": [
      "[Parallel(n_jobs=1)]: Done   8 out of   8 | elapsed:  1.0min remaining:    0.0s\n"
     ]
    },
    {
     "name": "stdout",
     "output_type": "stream",
     "text": [
      "[CV]  svc__C=0.001, svc__gamma=100, svc__kernel=rbf, score=0.25, total=   5.5s\n",
      "[CV] svc__C=0.001, svc__gamma=100, svc__kernel=rbf ...................\n"
     ]
    },
    {
     "name": "stderr",
     "output_type": "stream",
     "text": [
      "[Parallel(n_jobs=1)]: Done   9 out of   9 | elapsed:  1.2min remaining:    0.0s\n"
     ]
    },
    {
     "name": "stdout",
     "output_type": "stream",
     "text": [
      "[CV]  svc__C=0.001, svc__gamma=100, svc__kernel=rbf, score=0.25, total=   5.5s\n",
      "[CV] svc__C=1, svc__gamma=0.0001, svc__kernel=rbf ....................\n",
      "[CV]  svc__C=1, svc__gamma=0.0001, svc__kernel=rbf, score=0.82625, total=   1.8s\n",
      "[CV] svc__C=1, svc__gamma=0.0001, svc__kernel=rbf ....................\n",
      "[CV]  svc__C=1, svc__gamma=0.0001, svc__kernel=rbf, score=0.82375, total=   1.8s\n",
      "[CV] svc__C=1, svc__gamma=0.0001, svc__kernel=rbf ....................\n",
      "[CV]  svc__C=1, svc__gamma=0.0001, svc__kernel=rbf, score=0.8375, total=   1.8s\n",
      "[CV] svc__C=1, svc__gamma=0.0001, svc__kernel=rbf ....................\n",
      "[CV]  svc__C=1, svc__gamma=0.0001, svc__kernel=rbf, score=0.82875, total=   1.8s\n",
      "[CV] svc__C=1, svc__gamma=0.0001, svc__kernel=rbf ....................\n",
      "[CV]  svc__C=1, svc__gamma=0.0001, svc__kernel=rbf, score=0.8175, total=   1.8s\n",
      "[CV] svc__C=1, svc__gamma=100, svc__kernel=rbf .......................\n",
      "[CV]  svc__C=1, svc__gamma=100, svc__kernel=rbf, score=0.25, total=   5.5s\n",
      "[CV] svc__C=1, svc__gamma=100, svc__kernel=rbf .......................\n",
      "[CV]  svc__C=1, svc__gamma=100, svc__kernel=rbf, score=0.25, total=   5.4s\n",
      "[CV] svc__C=1, svc__gamma=100, svc__kernel=rbf .......................\n",
      "[CV]  svc__C=1, svc__gamma=100, svc__kernel=rbf, score=0.25, total=   5.5s\n",
      "[CV] svc__C=1, svc__gamma=100, svc__kernel=rbf .......................\n",
      "[CV]  svc__C=1, svc__gamma=100, svc__kernel=rbf, score=0.25, total=   5.5s\n",
      "[CV] svc__C=1, svc__gamma=100, svc__kernel=rbf .......................\n",
      "[CV]  svc__C=1, svc__gamma=100, svc__kernel=rbf, score=0.25, total=   5.5s\n"
     ]
    },
    {
     "name": "stderr",
     "output_type": "stream",
     "text": [
      "[Parallel(n_jobs=1)]: Done  20 out of  20 | elapsed:  2.3min finished\n"
     ]
    },
    {
     "data": {
      "text/plain": [
       "GridSearchCV(cv=5, error_score='raise',\n",
       "       estimator=Pipeline(memory=None,\n",
       "     steps=[('scaler', None), ('svc', SVC(C=1.0, cache_size=200, class_weight=None, coef0=0.0,\n",
       "  decision_function_shape='ovr', degree=3, gamma='auto', kernel='rbf',\n",
       "  max_iter=-1, probability=False, random_state=None, shrinking=True,\n",
       "  tol=0.001, verbose=False))]),\n",
       "       fit_params=None, iid=True, n_jobs=1,\n",
       "       param_grid=[{'svc__kernel': ['rbf'], 'svc__gamma': [0.0001, 100], 'svc__C': [0.001, 1]}],\n",
       "       pre_dispatch='2*n_jobs', refit=True, return_train_score=True,\n",
       "       scoring=None, verbose=10)"
      ]
     },
     "execution_count": 11,
     "metadata": {},
     "output_type": "execute_result"
    }
   ],
   "source": [
    "# Fitting the grid onto the train set\n",
    "\n",
    "grid_cv_rbf.fit(X_train,y_tr)"
   ]
  },
  {
   "cell_type": "code",
   "execution_count": 12,
   "metadata": {},
   "outputs": [],
   "source": [
    "# Creating the DataFrame with the grid values\n",
    "rbf_df=pd.DataFrame.from_items([('c',grid_cv_rbf.cv_results_['param_svc__C']),\n",
    "                            ('gamma',grid_cv_rbf.cv_results_['param_svc__gamma']),\n",
    "                            ('mean_te',grid_cv_rbf.cv_results_['mean_test_score']),\n",
    "                            ('std_te',grid_cv_rbf.cv_results_['std_test_score'])\n",
    "                           ])"
   ]
  },
  {
   "cell_type": "code",
   "execution_count": 13,
   "metadata": {},
   "outputs": [
    {
     "data": {
      "text/html": [
       "<div>\n",
       "<style scoped>\n",
       "    .dataframe tbody tr th:only-of-type {\n",
       "        vertical-align: middle;\n",
       "    }\n",
       "\n",
       "    .dataframe tbody tr th {\n",
       "        vertical-align: top;\n",
       "    }\n",
       "\n",
       "    .dataframe thead th {\n",
       "        text-align: right;\n",
       "    }\n",
       "</style>\n",
       "<table border=\"1\" class=\"dataframe\">\n",
       "  <thead>\n",
       "    <tr style=\"text-align: right;\">\n",
       "      <th></th>\n",
       "      <th>c</th>\n",
       "      <th>gamma</th>\n",
       "      <th>mean_te</th>\n",
       "      <th>std_te</th>\n",
       "    </tr>\n",
       "  </thead>\n",
       "  <tbody>\n",
       "    <tr>\n",
       "      <th>2</th>\n",
       "      <td>1</td>\n",
       "      <td>0.0001</td>\n",
       "      <td>0.82675</td>\n",
       "      <td>0.006548</td>\n",
       "    </tr>\n",
       "    <tr>\n",
       "      <th>0</th>\n",
       "      <td>0.001</td>\n",
       "      <td>0.0001</td>\n",
       "      <td>0.68750</td>\n",
       "      <td>0.011456</td>\n",
       "    </tr>\n",
       "    <tr>\n",
       "      <th>1</th>\n",
       "      <td>0.001</td>\n",
       "      <td>100</td>\n",
       "      <td>0.25000</td>\n",
       "      <td>0.000000</td>\n",
       "    </tr>\n",
       "    <tr>\n",
       "      <th>3</th>\n",
       "      <td>1</td>\n",
       "      <td>100</td>\n",
       "      <td>0.25000</td>\n",
       "      <td>0.000000</td>\n",
       "    </tr>\n",
       "  </tbody>\n",
       "</table>\n",
       "</div>"
      ],
      "text/plain": [
       "       c   gamma  mean_te    std_te\n",
       "2      1  0.0001  0.82675  0.006548\n",
       "0  0.001  0.0001  0.68750  0.011456\n",
       "1  0.001     100  0.25000  0.000000\n",
       "3      1     100  0.25000  0.000000"
      ]
     },
     "execution_count": 13,
     "metadata": {},
     "output_type": "execute_result"
    }
   ],
   "source": [
    "rbf_df.sort_values(by='mean_te',ascending=False)"
   ]
  },
  {
   "cell_type": "code",
   "execution_count": 18,
   "metadata": {},
   "outputs": [
    {
     "name": "stderr",
     "output_type": "stream",
     "text": [
      "C:\\Users\\paolo\\anaconda3\\envs\\exts-aml2\\lib\\site-packages\\ipykernel_launcher.py:2: FutureWarning: 'argmax' is deprecated. Use 'idxmax' instead. The behavior of 'argmax' will be corrected to return the positional maximum in the future. Use 'series.values.argmax' to get the position of the maximum now.\n",
      "  \n",
      "C:\\Users\\paolo\\anaconda3\\envs\\exts-aml2\\lib\\site-packages\\ipykernel_launcher.py:3: FutureWarning: 'argmax' is deprecated. Use 'idxmax' instead. The behavior of 'argmax' will be corrected to return the positional maximum in the future. Use 'series.values.argmax' to get the position of the maximum now.\n",
      "  This is separate from the ipykernel package so we can avoid doing imports until\n",
      "C:\\Users\\paolo\\anaconda3\\envs\\exts-aml2\\lib\\site-packages\\ipykernel_launcher.py:4: FutureWarning: 'argmax' is deprecated. Use 'idxmax' instead. The behavior of 'argmax' will be corrected to return the positional maximum in the future. Use 'series.values.argmax' to get the position of the maximum now.\n",
      "  after removing the cwd from sys.path.\n",
      "C:\\Users\\paolo\\anaconda3\\envs\\exts-aml2\\lib\\site-packages\\ipykernel_launcher.py:5: FutureWarning: 'argmax' is deprecated. Use 'idxmax' instead. The behavior of 'argmax' will be corrected to return the positional maximum in the future. Use 'series.values.argmax' to get the position of the maximum now.\n",
      "  \"\"\"\n",
      "C:\\Users\\paolo\\anaconda3\\envs\\exts-aml2\\lib\\site-packages\\ipykernel_launcher.py:6: FutureWarning: 'argmax' is deprecated. Use 'idxmax' instead. The behavior of 'argmax' will be corrected to return the positional maximum in the future. Use 'series.values.argmax' to get the position of the maximum now.\n",
      "  \n",
      "C:\\Users\\paolo\\anaconda3\\envs\\exts-aml2\\lib\\site-packages\\ipykernel_launcher.py:7: FutureWarning: 'argmax' is deprecated. Use 'idxmax' instead. The behavior of 'argmax' will be corrected to return the positional maximum in the future. Use 'series.values.argmax' to get the position of the maximum now.\n",
      "  import sys\n",
      "C:\\Users\\paolo\\anaconda3\\envs\\exts-aml2\\lib\\site-packages\\ipykernel_launcher.py:8: FutureWarning: 'argmax' is deprecated. Use 'idxmax' instead. The behavior of 'argmax' will be corrected to return the positional maximum in the future. Use 'series.values.argmax' to get the position of the maximum now.\n",
      "  \n"
     ]
    }
   ],
   "source": [
    "# Extracting the best SVM parameters from the DataFrames\n",
    "c_best_rbf=rbf_df.loc[rbf_df['mean_te'].argmax(),'c']\n",
    "gamma_best_rbf=rbf_df.loc[rbf_df['mean_te'].argmax(),'gamma']\n",
    "c_best_lr=lr_df.loc[lr_df['mean_te'].argmax(),'c']\n",
    "mean_te_best_lr=lr_df.loc[lr_df['mean_te'].argmax(),'mean_te']\n",
    "mean_te_best_rbf=rbf_df.loc[rbf_df['mean_te'].argmax(),'mean_te']\n",
    "std_te_best_lr=lr_df.loc[lr_df['mean_te'].argmax(),'std_te']\n",
    "std_te_best_rbf=rbf_df.loc[rbf_df['mean_te'].argmax(),'std_te']"
   ]
  },
  {
   "cell_type": "code",
   "execution_count": 19,
   "metadata": {},
   "outputs": [
    {
     "name": "stdout",
     "output_type": "stream",
     "text": [
      "Best parameters\n",
      "Linear SVM - top accuracy accross folds:0.83 (std:0.011 ) with C: 0.001\n",
      "RBF SVM    - top accuracy accross folds:0.83 (std:0.007 ) with C: 1      and Gamma: 0.0001\n"
     ]
    }
   ],
   "source": [
    "# Printing the best SVM parameters\n",
    "print ('Best parameters')\n",
    "print ('Linear SVM - top accuracy accross folds:{:.2f}'.format(mean_te_best_lr),'(std:{:.3f}'.format(std_te_best_lr),') with C:',c_best_lr)\n",
    "print ('RBF SVM    - top accuracy accross folds:{:.2f}'.format(mean_te_best_rbf),'(std:{:.3f}'.format(std_te_best_rbf),') with C:',c_best_rbf,'     and Gamma:',gamma_best_rbf)"
   ]
  },
  {
   "cell_type": "markdown",
   "metadata": {},
   "source": [
    "Note that we obtain the best score of the RBF method with a large regularization and a very small gamma.\n",
    "With these parameters the RBF method behaves like a linear method. Actually the accuracies of the linear and the RBF\n",
    "methods are similar."
   ]
  },
  {
   "cell_type": "markdown",
   "metadata": {},
   "source": [
    "## 04.04 Evaluating the tuned estimators on the test set"
   ]
  },
  {
   "cell_type": "code",
   "execution_count": 20,
   "metadata": {},
   "outputs": [
    {
     "name": "stdout",
     "output_type": "stream",
     "text": [
      "Shape of preprocessed Overfeat matrix: (1000, 175)\n",
      "Percentage of variance explained: 0.92\n"
     ]
    }
   ],
   "source": [
    "# Reducing the Overfeat features of the test set with the PCA using 175 components tuned on the train set\n",
    "X_Of_te_r=scaler.fit_transform(X_overfeat_te) #standardising features\n",
    "X_test=pca175.fit_transform(X_Of_te_r) #WARNING: X_test here corresponds to X_Of_te_175r in previous model tasks\n",
    "pve = pca175.explained_variance_ratio_ # Variance explained by components\n",
    "print('Shape of preprocessed Overfeat matrix:',X_test.shape)\n",
    "print('Percentage of variance explained: {:.2f}'.format(np.max(np.cumsum(pve))))"
   ]
  },
  {
   "cell_type": "code",
   "execution_count": 22,
   "metadata": {},
   "outputs": [
    {
     "name": "stdout",
     "output_type": "stream",
     "text": [
      "Linear SVM - top accuracy (test set): 0.345\n",
      "RBF SVM - top accuracy (test set): 0.358\n"
     ]
    }
   ],
   "source": [
    "svc=SVC(kernel='linear',C=c_best_lr)\n",
    "svc.fit(X_train,y_tr)\n",
    "print('Linear SVM - top accuracy (test set):',svc.score(X_test,y_te))\n",
    "\n",
    "rbf=SVC(kernel='rbf',C=c_best_rbf,gamma=gamma_best_rbf)\n",
    "rbf.fit(X_train,y_tr)\n",
    "print('RBF SVM - top accuracy (test set):',rbf.score(X_test,y_te))\n"
   ]
  }
 ],
 "metadata": {
  "kernelspec": {
   "display_name": "Python 3",
   "language": "python",
   "name": "python3"
  },
  "language_info": {
   "codemirror_mode": {
    "name": "ipython",
    "version": 3
   },
   "file_extension": ".py",
   "mimetype": "text/x-python",
   "name": "python",
   "nbconvert_exporter": "python",
   "pygments_lexer": "ipython3",
   "version": "3.6.4"
  }
 },
 "nbformat": 4,
 "nbformat_minor": 4
}
